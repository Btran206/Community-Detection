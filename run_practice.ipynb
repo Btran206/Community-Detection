{
 "cells": [
  {
   "cell_type": "code",
   "execution_count": 2,
   "metadata": {},
   "outputs": [],
   "source": [
    "#!/usr/bin/env python\n",
    "\n",
    "import sys\n",
    "import json\n",
    "\n",
    "sys.path.insert(0, 'src')"
   ]
  },
  {
   "cell_type": "code",
   "execution_count": 3,
   "metadata": {},
   "outputs": [],
   "source": [
    "from test_etl import create_rand_graphs, create_combined, create_combined_edges, plot_graph\n",
    "#from model import train"
   ]
  },
  {
   "cell_type": "code",
   "execution_count": null,
   "metadata": {},
   "outputs": [],
   "source": []
  },
  {
   "cell_type": "code",
   "execution_count": 6,
   "metadata": {},
   "outputs": [],
   "source": [
    "if 'test' in targets:\n",
    "        with open('config/test_etl.json') as fh:\n",
    "            test_etl_config = json.load(fh)\n",
    "        #check if pickles not exist in raw, if true run function below\n",
    "        create_rand_graphs(**test_etl_config)\n",
    "        #check if gt or combined_seperated not exist in temp\n",
    "        create_combined(**test_etl_config)\n",
    "        create_combined_edges(**test_etl_config)"
   ]
  },
  {
   "cell_type": "code",
   "execution_count": null,
   "metadata": {},
   "outputs": [],
   "source": []
  },
  {
   "cell_type": "code",
   "execution_count": 4,
   "metadata": {},
   "outputs": [],
   "source": [
    "def main(targets):\n",
    "    '''\n",
    "        Runs the main project pipeline logic, given the targets.\n",
    "        targets must contain: 'data', 'model'.\n",
    "        `main` runs the targets in order of data=>model.\n",
    "    '''\n",
    "\n",
    "    ##FULL ORDER OF TARGETS BY PRIORITY\n",
    "    #clean (remove all data)\n",
    "    #test (data -> model)\n",
    "    #all (test-data model)\n",
    "\n",
    "    #test-data\n",
    "    #data\n",
    "    #model\n",
    "    \n",
    "    \n",
    "    if 'test' in targets:\n",
    "        with open('config/test_etl.json') as fh:\n",
    "            test_etl_config = json.load(fh)\n",
    "        #check if pickles not exist in raw, if true run function below\n",
    "        create_rand_graphs(**test_etl_config)\n",
    "        #check if gt or combined_seperated not exist in temp\n",
    "        create_combined(**test_etl_config)\n",
    "        create_combined_edges(**test_etl_config)"
   ]
  },
  {
   "cell_type": "code",
   "execution_count": 12,
   "metadata": {},
   "outputs": [
    {
     "name": "stdout",
     "output_type": "stream",
     "text": [
      "['-f', '/Users/darehunt/Library/Jupyter/runtime/kernel-7566870c-616f-477f-a895-0bb7117acbb9.json']\n"
     ]
    }
   ],
   "source": [
    "if __name__ == '__main__':\n",
    "    # run via:\n",
    "    # python main.py data model\n",
    "    targets = sys.argv[1:]\n",
    "    print(targets)\n",
    "    #main(targets)"
   ]
  },
  {
   "cell_type": "code",
   "execution_count": null,
   "metadata": {},
   "outputs": [],
   "source": []
  }
 ],
 "metadata": {
  "kernelspec": {
   "display_name": "Python 3",
   "language": "python",
   "name": "python3"
  },
  "language_info": {
   "codemirror_mode": {
    "name": "ipython",
    "version": 3
   },
   "file_extension": ".py",
   "mimetype": "text/x-python",
   "name": "python",
   "nbconvert_exporter": "python",
   "pygments_lexer": "ipython3",
   "version": "3.7.6"
  }
 },
 "nbformat": 4,
 "nbformat_minor": 4
}
