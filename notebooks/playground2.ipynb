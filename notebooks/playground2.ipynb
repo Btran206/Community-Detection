{
 "cells": [
  {
   "cell_type": "code",
   "execution_count": 1,
   "metadata": {},
   "outputs": [],
   "source": [
    "import numpy as np\n",
    "import networkx as nx\n",
    "import pickle\n",
    "import json\n",
    "import matplotlib as plt"
   ]
  },
  {
   "cell_type": "code",
   "execution_count": 2,
   "metadata": {},
   "outputs": [],
   "source": [
    "link_dir = 'http://www-personal.umich.edu/~mejn/netdata/polblogs.zip'\n",
    "temp_dir = 'data/political/temp/'\n",
    "data_dir = 'data/political/raw/'\n",
    "raw_data_filename = 'polblogs.gml'\n",
    "temp_pickle_graph_filename = 'political_graph.pickle'\n",
    "ground_truth_filename = 'ground_truth.json'"
   ]
  },
  {
   "cell_type": "code",
   "execution_count": 3,
   "metadata": {},
   "outputs": [
    {
     "ename": "NameError",
     "evalue": "name 'largest_SCC' is not defined",
     "output_type": "error",
     "traceback": [
      "\u001b[0;31m---------------------------------------------------------------------------\u001b[0m",
      "\u001b[0;31mNameError\u001b[0m                                 Traceback (most recent call last)",
      "\u001b[0;32m<ipython-input-3-610f9522cc2e>\u001b[0m in \u001b[0;36m<module>\u001b[0;34m\u001b[0m\n\u001b[0;32m----> 1\u001b[0;31m \u001b[0mlargest_SCC\u001b[0m\u001b[0;34m,\u001b[0m \u001b[0mG\u001b[0m\u001b[0;34m\u001b[0m\u001b[0;34m\u001b[0m\u001b[0m\n\u001b[0m",
      "\u001b[0;31mNameError\u001b[0m: name 'largest_SCC' is not defined"
     ]
    }
   ],
   "source": [
    "largest_SCC, G"
   ]
  },
  {
   "cell_type": "code",
   "execution_count": 4,
   "metadata": {},
   "outputs": [],
   "source": [
    "G = nx.read_gml(\"../\" + data_dir + raw_data_filename, label='id')\n",
    "H = G.to_undirected()\n",
    "largest = max(nx.connected_components(H), key=len)\n",
    "largest_SCC = H.subgraph(largest)\n",
    "ground_truths = {\n",
    "        0: [], # democrat\n",
    "        1: []  # republican\n",
    "    }\n",
    "\n",
    "for i in largest_SCC.nodes:\n",
    "    ground_truths[largest_SCC.nodes[i]['value']].append(i)\n",
    "\n",
    "#NOT WORKING FOR SOME REASON, WORKS FOR THE OTHER ONES\n",
    "nx.write_gpickle(largest_SCC, \"../\" + temp_dir + temp_pickle_graph_filename)"
   ]
  },
  {
   "cell_type": "code",
   "execution_count": null,
   "metadata": {},
   "outputs": [],
   "source": []
  },
  {
   "cell_type": "code",
   "execution_count": 5,
   "metadata": {},
   "outputs": [
    {
     "data": {
      "text/plain": [
       "{0: <networkx.classes.multigraph.MultiGraph at 0x7fc190755700>,\n",
       " 1: <networkx.classes.multigraph.MultiGraph at 0x7fc190755af0>}"
      ]
     },
     "execution_count": 5,
     "metadata": {},
     "output_type": "execute_result"
    }
   ],
   "source": [
    "# number of nodes, number of edges, average degree\n",
    "# just 0, just 1\n",
    "sub_graphs = {0:[], 1:[]}\n",
    "for i in largest_SCC.nodes:\n",
    "    largest_SCC.subgraph(i)\n",
    "    \n",
    "    sub_graphs[largest_SCC.nodes[i]['value']].append(i)\n",
    "\n",
    "for i in sub_graphs:\n",
    "    sub_graphs[i] = largest_SCC.subgraph(sub_graphs[i])\n",
    "\n",
    "sub_graphs"
   ]
  },
  {
   "cell_type": "code",
   "execution_count": 6,
   "metadata": {},
   "outputs": [],
   "source": [
    "def graph_stats(G):\n",
    "    deg = []\n",
    "    for i in G.degree:\n",
    "        deg.append(i[1])\n",
    "    \n",
    "    \n",
    "    stats = {\n",
    "        'nodes': G.order(),\n",
    "        'edges': G.number_of_edges(),\n",
    "        'weights': G.size(),\n",
    "        'avg_degree': sum(deg) / len(deg)\n",
    "    }\n",
    "    \n",
    "    return stats"
   ]
  },
  {
   "cell_type": "code",
   "execution_count": 7,
   "metadata": {},
   "outputs": [
    {
     "name": "stdout",
     "output_type": "stream",
     "text": [
      "{'nodes': 1222, 'edges': 16782, 'weights': 16782, 'avg_degree': 27.46644844517185}\n",
      "{'nodes': 586, 'edges': 7322, 'weights': 7322, 'avg_degree': 24.98976109215017}\n",
      "{'nodes': 636, 'edges': 7880, 'weights': 7880, 'avg_degree': 24.77987421383648}\n"
     ]
    }
   ],
   "source": [
    "# MAIN\n",
    "print(graph_stats(largest_SCC))\n",
    "\n",
    "# GROUP 0\n",
    "print(graph_stats(sub_graphs[0]))\n",
    "\n",
    "# GROUP 1\n",
    "print(graph_stats(sub_graphs[1]))\n"
   ]
  },
  {
   "cell_type": "code",
   "execution_count": null,
   "metadata": {},
   "outputs": [],
   "source": []
  },
  {
   "cell_type": "code",
   "execution_count": 8,
   "metadata": {},
   "outputs": [],
   "source": [
    "def spectral_cluster(G):\n",
    "    A = nx.to_numpy_array(G)\n",
    "    D = np.diag(A.sum(axis=1))\n",
    "    # graph laplacian\n",
    "    L = D-A\n",
    "    # eigenvalues and eigenvectors\n",
    "    vals, vecs = np.linalg.eig(L)\n",
    "    # sort these based on the eigenvalues\n",
    "    vecs = vecs[:,np.argsort(vals)]\n",
    "    vals = vals[np.argsort(vals)]\n",
    "    return [1 if i > 0 else 0 for i in vals]"
   ]
  },
  {
   "cell_type": "code",
   "execution_count": 9,
   "metadata": {},
   "outputs": [],
   "source": [
    "def prediction_evaluation(G, pred_list):\n",
    "    # Returns accuracy\n",
    "    evaluate1 = []\n",
    "    evaluate2 = []\n",
    "    index = 0\n",
    "    for i in list(G.nodes(data = True)):\n",
    "        evaluate1.append(pred_list[index] == i[1]['value'])\n",
    "        evaluate2.append(pred_list[index] != i[1]['value'])\n",
    "        index += 1\n",
    "\n",
    "    return max(sum(evaluate1)/len(evaluate1), sum(evaluate2)/len(evaluate2))"
   ]
  },
  {
   "cell_type": "code",
   "execution_count": 10,
   "metadata": {},
   "outputs": [],
   "source": [
    "def spectral_evaluation(G):\n",
    "    preds = spectral_cluster(G)\n",
    "    vals = {\n",
    "        'predictions': spectral_cluster(G),\n",
    "        'accuracy': prediction_evaluation(G, preds)\n",
    "    }\n",
    "    return vals"
   ]
  },
  {
   "cell_type": "code",
   "execution_count": 12,
   "metadata": {},
   "outputs": [
    {
     "data": {
      "text/plain": [
       "0.5212765957446809"
      ]
     },
     "execution_count": 12,
     "metadata": {},
     "output_type": "execute_result"
    }
   ],
   "source": [
    "spectral_evaluation(largest_SCC)[\"accuracy\"]"
   ]
  },
  {
   "cell_type": "code",
   "execution_count": 80,
   "metadata": {},
   "outputs": [
    {
     "data": {
      "text/plain": [
       "'data/political/temp/ground_truth.json'"
      ]
     },
     "execution_count": 80,
     "metadata": {},
     "output_type": "execute_result"
    }
   ],
   "source": []
  },
  {
   "cell_type": "code",
   "execution_count": null,
   "metadata": {},
   "outputs": [],
   "source": [
    "with open(\"../\" + temp_dir + ground_truth_filename, 'r') as openfile:\n",
    "        ground_truth_json = json.load(openfile)"
   ]
  },
  {
   "cell_type": "code",
   "execution_count": null,
   "metadata": {},
   "outputs": [],
   "source": [
    "def plot_combined_graph(combined, ground_truth):\n",
    "    combined = pickle.load(open('data/test/temp/combined.pickle', 'rb'))\n",
    "\n",
    "    with open('data/test/temp/ground_truth.json', 'r') as openfile:\n",
    "        ground_truth = json.load(openfile)\n",
    "  \n",
    "    pos = nx.spring_layout(combined)\n",
    "   \n",
    "    nx.draw_networkx_nodes(combined, pos=pos, nodelist=ground_truth['clique_nodes'], node_color='r', node_size=50)\n",
    "    nx.draw_networkx_nodes(combined, pos=pos, nodelist=ground_truth['outer_nodes'], node_color='b', node_size=50)\n",
    "    nx.draw_networkx_edges(combined, pos=pos)\n",
    "    return plt.show()"
   ]
  },
  {
   "cell_type": "code",
   "execution_count": 66,
   "metadata": {},
   "outputs": [],
   "source": [
    "def save_graph(graph,file_name):\n",
    "    #initialze Figure\n",
    "    plt.figure(num=None, figsize=(50, 50), dpi=100)\n",
    "    plt.axis('off')\n",
    "    fig = plt.figure(1)\n",
    "    pos = nx.spring_layout(graph, seed=22)\n",
    "    nx.draw_networkx_nodes(graph,pos)\n",
    "    nx.draw_networkx_edges(graph,pos, alpha=0.5)\n",
    "    nx.draw_networkx_labels(graph,pos)\n",
    "    \n",
    "    plt.savefig(file_name,bbox_inches=\"tight\")\n",
    "    pylab.close()\n",
    "    del fig"
   ]
  },
  {
   "cell_type": "code",
   "execution_count": null,
   "metadata": {},
   "outputs": [],
   "source": [
    "def create_original_data():\n",
    "\n"
   ]
  },
  {
   "cell_type": "code",
   "execution_count": null,
   "metadata": {},
   "outputs": [],
   "source": [
    "def create_prediction_data():\n"
   ]
  },
  {
   "cell_type": "code",
   "execution_count": null,
   "metadata": {},
   "outputs": [],
   "source": [
    "def create_ground_truth_data():\n",
    "    "
   ]
  },
  {
   "cell_type": "code",
   "execution_count": null,
   "metadata": {},
   "outputs": [],
   "source": [
    "#miscolored"
   ]
  }
 ],
 "metadata": {
  "kernelspec": {
   "display_name": "Python 3.8.5",
   "language": "python",
   "name": "python3"
  },
  "language_info": {
   "codemirror_mode": {
    "name": "ipython",
    "version": 3
   },
   "file_extension": ".py",
   "mimetype": "text/x-python",
   "name": "python",
   "nbconvert_exporter": "python",
   "pygments_lexer": "ipython3",
   "version": "3.8.5"
  },
  "vscode": {
   "interpreter": {
    "hash": "40d3a090f54c6569ab1632332b64b2c03c39dcf918b08424e98f38b5ae0af88f"
   }
  }
 },
 "nbformat": 4,
 "nbformat_minor": 4
}
