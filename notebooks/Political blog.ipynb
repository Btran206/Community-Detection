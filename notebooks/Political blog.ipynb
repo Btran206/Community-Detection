{
 "cells": [
  {
   "cell_type": "code",
   "execution_count": 5,
   "id": "b0d2bd7c",
   "metadata": {},
   "outputs": [],
   "source": [
    "import networkx as nx\n",
    "import numpy as np\n",
    "import requests\n",
    "import zipfile\n",
    "from io import BytesIO"
   ]
  },
  {
   "cell_type": "code",
   "execution_count": 6,
   "id": "2ec091ff",
   "metadata": {},
   "outputs": [],
   "source": [
    "## GET LOADED AND UNZIPPED ONLY CODE\n",
    "link = \"http://www-personal.umich.edu/~mejn/netdata/polblogs.zip\"\n",
    "data_dir = \"data/political/raw/\""
   ]
  },
  {
   "cell_type": "code",
   "execution_count": 7,
   "id": "1dce1d75",
   "metadata": {},
   "outputs": [],
   "source": [
    "# Split URL to get the file name\n",
    "filename = link.split('/')[-1]"
   ]
  },
  {
   "cell_type": "code",
   "execution_count": 8,
   "id": "8b0b2e91",
   "metadata": {},
   "outputs": [
    {
     "name": "stdout",
     "output_type": "stream",
     "text": [
      "Begginning Completed\n",
      "Downloading Completed\n"
     ]
    }
   ],
   "source": [
    "# Downloading the file by sending the request to the URL\n",
    "print('Beginning Political Data Download')\n",
    "req = requests.get(link)\n",
    "print('Political Data Download Completed')"
   ]
  },
  {
   "cell_type": "code",
   "execution_count": 9,
   "id": "f06e881b",
   "metadata": {},
   "outputs": [],
   "source": [
    "# extracting the zip file contents\n",
    "zipfile= zipfile.ZipFile(BytesIO(req.content))\n",
    "zipfile.extractall('../' + data_dir)"
   ]
  },
  {
   "cell_type": "code",
   "execution_count": null,
   "id": "6de319e3",
   "metadata": {},
   "outputs": [],
   "source": []
  },
  {
   "cell_type": "code",
   "execution_count": 112,
   "id": "ea9fcfbd",
   "metadata": {},
   "outputs": [],
   "source": [
    "H = nx.read_gml(\"polblogs.gml\")"
   ]
  },
  {
   "cell_type": "code",
   "execution_count": 139,
   "id": "c84c1ad1",
   "metadata": {},
   "outputs": [],
   "source": [
    "largest = max(nx.strongly_connected_components(H), key=len)"
   ]
  },
  {
   "cell_type": "code",
   "execution_count": 140,
   "id": "eddbf105",
   "metadata": {},
   "outputs": [],
   "source": [
    "Largest_SCC = H.subgraph(largest)"
   ]
  },
  {
   "cell_type": "code",
   "execution_count": 141,
   "id": "da99326a",
   "metadata": {},
   "outputs": [
    {
     "data": {
      "text/plain": [
       "<networkx.classes.multidigraph.MultiDiGraph at 0x1e9c8575040>"
      ]
     },
     "execution_count": 141,
     "metadata": {},
     "output_type": "execute_result"
    }
   ],
   "source": [
    "Largest_SCC"
   ]
  },
  {
   "cell_type": "code",
   "execution_count": 109,
   "id": "16b00ab6",
   "metadata": {},
   "outputs": [],
   "source": [
    "def spectral_cluster(G):\n",
    "    A = nx.to_numpy_array(G)\n",
    "    D = np.diag(A.sum(axis=1))\n",
    "    # graph laplacian\n",
    "    L = D-A\n",
    "    # eigenvalues and eigenvectors\n",
    "    vals, vecs = np.linalg.eig(L)\n",
    "    # sort these based on the eigenvalues\n",
    "    vecs = vecs[:,np.argsort(vals)]\n",
    "    vals = vals[np.argsort(vals)]\n",
    "    return [1 if i > 0 else 0 for i in vals]"
   ]
  },
  {
   "cell_type": "markdown",
   "id": "1f866f8b",
   "metadata": {},
   "source": [
    "# Try on entire graph"
   ]
  },
  {
   "cell_type": "code",
   "execution_count": 127,
   "id": "d15b564b",
   "metadata": {},
   "outputs": [],
   "source": [
    "predictions = spectral_cluster(H)"
   ]
  },
  {
   "cell_type": "code",
   "execution_count": 134,
   "id": "2f4fa9a9",
   "metadata": {},
   "outputs": [],
   "source": [
    "evaluate = []\n",
    "index = 0\n",
    "for i in list(H.nodes(data = True)):\n",
    "    evaluate.append(predictions[index] == i[1]['value'])\n",
    "    index += 1"
   ]
  },
  {
   "cell_type": "code",
   "execution_count": 136,
   "id": "0389869f",
   "metadata": {},
   "outputs": [
    {
     "data": {
      "text/plain": [
       "0.7778523489932886"
      ]
     },
     "execution_count": 136,
     "metadata": {},
     "output_type": "execute_result"
    }
   ],
   "source": [
    "sum(evaluate)/len(evaluate)"
   ]
  },
  {
   "cell_type": "markdown",
   "id": "ec325de7",
   "metadata": {},
   "source": [
    "# Try on strongest connected component"
   ]
  },
  {
   "cell_type": "code",
   "execution_count": 142,
   "id": "f9c83663",
   "metadata": {},
   "outputs": [],
   "source": [
    "predictions = spectral_cluster(Largest_SCC)"
   ]
  },
  {
   "cell_type": "code",
   "execution_count": 143,
   "id": "a70dc0e1",
   "metadata": {},
   "outputs": [],
   "source": [
    "evaluate = []\n",
    "index = 0\n",
    "for i in list(Largest_SCC.nodes(data = True)):\n",
    "    evaluate.append(predictions[index] == i[1]['value'])\n",
    "    index += 1"
   ]
  },
  {
   "cell_type": "code",
   "execution_count": 144,
   "id": "956b82fb",
   "metadata": {},
   "outputs": [
    {
     "data": {
      "text/plain": [
       "0.5586380832282472"
      ]
     },
     "execution_count": 144,
     "metadata": {},
     "output_type": "execute_result"
    }
   ],
   "source": [
    "sum(evaluate)/len(evaluate)"
   ]
  }
 ],
 "metadata": {
  "kernelspec": {
   "display_name": "Python 3.8.5",
   "language": "python",
   "name": "python3"
  },
  "language_info": {
   "codemirror_mode": {
    "name": "ipython",
    "version": 3
   },
   "file_extension": ".py",
   "mimetype": "text/x-python",
   "name": "python",
   "nbconvert_exporter": "python",
   "pygments_lexer": "ipython3",
   "version": "3.8.5"
  },
  "vscode": {
   "interpreter": {
    "hash": "40d3a090f54c6569ab1632332b64b2c03c39dcf918b08424e98f38b5ae0af88f"
   }
  }
 },
 "nbformat": 4,
 "nbformat_minor": 5
}
